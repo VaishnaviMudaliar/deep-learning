{
  "nbformat": 4,
  "nbformat_minor": 0,
  "metadata": {
    "colab": {
      "provenance": [],
      "gpuType": "V28",
      "authorship_tag": "ABX9TyMggX+jXueKE9OtAu/i3dsL",
      "include_colab_link": true
    },
    "kernelspec": {
      "name": "python3",
      "display_name": "Python 3"
    },
    "language_info": {
      "name": "python"
    },
    "accelerator": "TPU"
  },
  "cells": [
    {
      "cell_type": "markdown",
      "metadata": {
        "id": "view-in-github",
        "colab_type": "text"
      },
      "source": [
        "<a href=\"https://colab.research.google.com/github/VaishnaviMudaliar/deep-learning/blob/main/Resnet_from_scratch.ipynb\" target=\"_parent\"><img src=\"https://colab.research.google.com/assets/colab-badge.svg\" alt=\"Open In Colab\"/></a>"
      ]
    },
    {
      "cell_type": "code",
      "execution_count": 1,
      "metadata": {
        "id": "uyLuP5CeRPs-"
      },
      "outputs": [],
      "source": [
        "# Importing the libraries\n",
        "\n",
        "import numpy as np\n",
        "import torch\n",
        "import torch.nn as nn\n",
        "from torchvision import datasets, transforms\n",
        "from torch.utils.data.sampler import SubsetRandomSampler\n",
        "\n",
        "# Device configuration\n",
        "device = torch.device('cuda' if torch.cuda.is_available() else 'cpu')\n"
      ]
    },
    {
      "cell_type": "code",
      "source": [
        "# loading cifar 10 dataset\n",
        "\n",
        "def data_loader(data_dir , batch_size, valid_size = 0.1 , shuffle = True , random_seed = 42 , test = False):\n",
        "  normalize = transforms.Normalize(mean=[0.485, 0.456, 0.406], std=[0.229, 0.224, 0.225])\n",
        "\n",
        "  #define transforms\n",
        "  transform = transforms.Compose([\n",
        "      transforms.Resize((224,224)),\n",
        "      transforms.ToTensor(),\n",
        "      normalize\n",
        "  ])\n",
        "\n",
        "  if test :\n",
        "    dataset = datasets.CIFAR10(root=data_dir, train=False, download=True, transform=transform)\n",
        "    data_loader = torch.utils.data.DataLoader(dataset, batch_size=batch_size, shuffle=shuffle)\n",
        "    return data_loader\n",
        "\n",
        "  train_dataset = datasets.CIFAR10(root = data_dir , train = True , download = True , transform = transform)\n",
        "  valid_dataset = datasets.CIFAR10(root = data_dir , train = True , download = True , transform = transform)\n",
        "  num_train = len(train_dataset)\n",
        "  indices = list(range(num_train))\n",
        "  split = int(np.floor(valid_size * num_train))\n",
        "\n",
        "  if shuffle:\n",
        "    np.random.seed(random_seed)\n",
        "    np.random.shuffle(indices)\n",
        "\n",
        "  train_idx, valid_idx = indices[split:], indices[:split]\n",
        "  train_sampler = SubsetRandomSampler(train_idx)\n",
        "  valid_sampler = SubsetRandomSampler(valid_idx)\n",
        "\n",
        "  train_loader = torch.utils.data.DataLoader(train_dataset, batch_size=batch_size, sampler=train_sampler)\n",
        "\n",
        "  valid_loader = torch.utils.data.DataLoader(valid_dataset, batch_size=batch_size, sampler=valid_sampler)\n",
        "\n",
        "  return train_loader , valid_loader\n",
        "\n",
        "\n",
        "  # CIFAR10 dataset\n",
        "\n",
        "train_loader , valid_loader = data_loader(data_dir = './data', batch_size = 64)\n",
        "test_loader = data_loader(data_dir = './data', batch_size = 64 , test = True)"
      ],
      "metadata": {
        "colab": {
          "base_uri": "https://localhost:8080/"
        },
        "id": "IVzhLfvoSErm",
        "outputId": "fe0a6c2f-a0e1-43a3-adbe-f5ebaa52337c"
      },
      "execution_count": 2,
      "outputs": [
        {
          "output_type": "stream",
          "name": "stdout",
          "text": [
            "Downloading https://www.cs.toronto.edu/~kriz/cifar-10-python.tar.gz to ./data/cifar-10-python.tar.gz\n"
          ]
        },
        {
          "output_type": "stream",
          "name": "stderr",
          "text": [
            "100%|██████████| 170498071/170498071 [00:03<00:00, 50913793.95it/s]\n"
          ]
        },
        {
          "output_type": "stream",
          "name": "stdout",
          "text": [
            "Extracting ./data/cifar-10-python.tar.gz to ./data\n",
            "Files already downloaded and verified\n",
            "Files already downloaded and verified\n"
          ]
        }
      ]
    },
    {
      "cell_type": "code",
      "source": [
        "# Residual Block\n",
        "\n",
        "class ResidualBlock(nn.Module):\n",
        "  def __init__(self, in_channels, out_channels, stride=1 , downsample = None):\n",
        "    super(ResidualBlock, self).__init__()\n",
        "    self.conv1 = nn.Sequential(\n",
        "        nn.Conv2d(in_channels, out_channels, kernel_size=3, stride=stride, padding=1, bias=False),\n",
        "        nn.BatchNorm2d(out_channels),\n",
        "        nn.ReLU(inplace=True)\n",
        "\n",
        "    )\n",
        "    self.conv2 = nn.Sequential(\n",
        "        nn.Conv2d(out_channels, out_channels, kernel_size=3, stride=1, padding=1, bias=False),\n",
        "        nn.BatchNorm2d(out_channels)\n",
        "    )\n",
        "    self.downsample = downsample\n",
        "    self.relu = nn.ReLU()\n",
        "    self.out_channels = out_channels\n",
        "\n",
        "  def forward(self, x):\n",
        "    residual = x\n",
        "    out = self.conv1(x)\n",
        "    out = self.conv2(out)\n",
        "    if self.downsample:\n",
        "      residual = self.downsample(x)\n",
        "    out += residual\n",
        "    out = self.relu(out)\n",
        "    return out"
      ],
      "metadata": {
        "id": "EMvRi1gIUeWf"
      },
      "execution_count": 3,
      "outputs": []
    },
    {
      "source": [
        "# Building the ResNet\n",
        "\n",
        "class ResNet(nn.Module):\n",
        "  def __init__(self, block, layers, num_classes=10):\n",
        "    super(ResNet, self).__init__()\n",
        "    self.inplanes = 64\n",
        "    self.conv1 = nn.Sequential(\n",
        "        nn.Conv2d(3, 64, kernel_size=7, stride=2, padding=3, bias=False),\n",
        "        nn.BatchNorm2d(64),\n",
        "        nn.ReLU(inplace=True)\n",
        "    )\n",
        "    self.maxpool = nn.MaxPool2d(kernel_size=3, stride=2, padding=1)\n",
        "    self.layer0 = self._make_layer(block, 64, layers[0], stride=1)\n",
        "    self.layer1 = self._make_layer(block, 128, layers[1], stride=2)\n",
        "    self.layer2 = self._make_layer(block, 256, layers[2], stride=2)\n",
        "    self.layer3 = self._make_layer(block, 512, layers[3], stride=2)\n",
        "    self.avgpool = nn.AvgPool2d(7 , stride = 1)\n",
        "    self.fc = nn.Linear(512 , num_classes)\n",
        "\n",
        "  def _make_layer(self , block , planes , blocks , stride = 1):\n",
        "    downsample = None\n",
        "    if stride != 1 or self.inplanes != planes:\n",
        "      downsample = nn.Sequential(\n",
        "          nn.Conv2d(self.inplanes, planes, kernel_size=1, stride=stride, bias=False),\n",
        "          nn.BatchNorm2d(planes)\n",
        "      )\n",
        "    layers = [] # Initialize layers list outside the if block\n",
        "    layers.append(block(self.inplanes, planes, stride, downsample))\n",
        "    self.inplanes = planes\n",
        "    for i in range(1, blocks):\n",
        "      layers.append(block(self.inplanes, planes))\n",
        "    return nn.Sequential(*layers)\n",
        "\n",
        "  def forward(self, x): # De-indent the content of this method\n",
        "    x = self.conv1(x)\n",
        "    x = self.maxpool(x)\n",
        "    x = self.layer0(x)\n",
        "    x = self.layer1(x)\n",
        "    x = self.layer2(x)\n",
        "    x = self.layer3(x)\n",
        "\n",
        "    x = self.avgpool(x)\n",
        "    x = x.view(x.size(0), -1)\n",
        "    x = self.fc(x)\n",
        "    return x"
      ],
      "cell_type": "code",
      "metadata": {
        "id": "rFpamJihYSdm"
      },
      "execution_count": 4,
      "outputs": []
    },
    {
      "cell_type": "code",
      "source": [
        "\n",
        "num_classes = 10\n",
        "num_epochs = 20\n",
        "batch_size = 16\n",
        "learning_rate = 0.01\n",
        "\n",
        "model = ResNet(ResidualBlock, [3, 4, 6, 3]).to(device)\n",
        "\n",
        "# Loss and optimizer\n",
        "criterion = nn.CrossEntropyLoss()\n",
        "optimizer = torch.optim.SGD(model.parameters(), lr=learning_rate, weight_decay = 0.001, momentum = 0.9)\n",
        "\n",
        "# Train the model\n",
        "total_step = len(train_loader)\n"
      ],
      "metadata": {
        "id": "3e6cwD0hWYDR"
      },
      "execution_count": 5,
      "outputs": []
    },
    {
      "cell_type": "code",
      "source": [
        "# Training\n",
        "\n",
        "import gc\n",
        "total_step = len(train_loader)\n",
        "\n",
        "for epoch in range(num_epochs):\n",
        "  for i, (images, labels) in enumerate(train_loader):\n",
        "    # Move tensors to configured device\n",
        "    images = images.to(device)\n",
        "    labels = labels.to(device)\n",
        "\n",
        "    # Forward pass\n",
        "\n",
        "    outputs = model(images)\n",
        "    loss = criterion(outputs , labels)\n",
        "\n",
        "    # backward and optimize\n",
        "    optimizer.zero_grad()\n",
        "    loss.backward()\n",
        "    optimizer.step()\n",
        "    del images, labels, outputs\n",
        "    gc.collect()\n",
        "\n",
        "  print('Epoch [{}/{}], Loss: {:.4f}'.format(epoch+1, num_epochs, loss.item()))\n",
        "  torch.save(model.state_dict(), 'model.ckpt')\n",
        "\n",
        "  # Validation\n",
        "  with torch.no_grad():\n",
        "    correct = 0\n",
        "    total = 0\n",
        "    for images, labels in valid_loader:\n",
        "      images = images.to(device)\n",
        "      labels = labels.to(device)\n",
        "      outputs = model(images)\n",
        "      _, predicted = torch.max(outputs.data, 1)\n",
        "      total += labels.size(0)\n",
        "      correct += (predicted == labels).sum().item()\n",
        "      del images, labels, outputs\n",
        "    gc.collect()\n",
        "    print('Accuracy of the network on the 10000 test images: {} %'.format(100 * correct / total))"
      ],
      "metadata": {
        "id": "W8lc-J2wZLKT"
      },
      "execution_count": null,
      "outputs": []
    },
    {
      "cell_type": "code",
      "source": [
        "# testing\n",
        "\n",
        "with torch.no_grad():\n",
        "  correct = 0\n",
        "  total = 0\n",
        "  for images, labels in test_loader:\n",
        "    images = images.to(device)\n",
        "    labels = labels.to(device)\n",
        "    outputs = model(images)\n",
        "    _, predicted = torch.max(outputs.data, 1)\n",
        "    total += labels.size(0)\n",
        "    correct += (predicted == labels).sum().item()\n",
        "    del images, labels, outputs\n",
        "  gc.collect()\n",
        "  print('Accuracy of the network on the 10000 test images: {} %'.format(100 * correct / total))"
      ],
      "metadata": {
        "id": "dtYkH986cnUN"
      },
      "execution_count": null,
      "outputs": []
    }
  ]
}