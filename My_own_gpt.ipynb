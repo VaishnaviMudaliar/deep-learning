{
  "nbformat": 4,
  "nbformat_minor": 0,
  "metadata": {
    "colab": {
      "provenance": [],
      "authorship_tag": "ABX9TyMYqFaiNT1a2WrOMtHqRS51",
      "include_colab_link": true
    },
    "kernelspec": {
      "name": "python3",
      "display_name": "Python 3"
    },
    "language_info": {
      "name": "python"
    }
  },
  "cells": [
    {
      "cell_type": "markdown",
      "metadata": {
        "id": "view-in-github",
        "colab_type": "text"
      },
      "source": [
        "<a href=\"https://colab.research.google.com/github/VaishnaviMudaliar/deep-learning/blob/main/My_own_gpt.ipynb\" target=\"_parent\"><img src=\"https://colab.research.google.com/assets/colab-badge.svg\" alt=\"Open In Colab\"/></a>"
      ]
    },
    {
      "cell_type": "code",
      "execution_count": null,
      "metadata": {
        "id": "IDKZ_TH54Lsn"
      },
      "outputs": [],
      "source": [
        "import torch\n",
        "import torch.nn as nn\n",
        "from torch.nn import functional as F"
      ]
    },
    {
      "cell_type": "code",
      "source": [
        "# hyperparameters\n",
        "batch_size = 16 # how many independent sequences will we process in parallel?\n",
        "block_size = 32 # what is the maximum context length for predictions?\n",
        "max_iters = 5000\n",
        "eval_interval = 100\n",
        "learning_rate = 1e-3\n",
        "device = 'cuda' if torch.cuda.is_available() else 'cpu'\n",
        "eval_iters = 200\n",
        "n_embd = 64\n",
        "n_head = 4\n",
        "n_layer = 4\n",
        "dropout = 0.0"
      ],
      "metadata": {
        "id": "2Rq5XgCD4fTI"
      },
      "execution_count": null,
      "outputs": []
    },
    {
      "cell_type": "code",
      "source": [
        "torch.manual_seed(1337)\n",
        "\n",
        "!wget https://raw.githubusercontent.com/karpathy/char-rnn/master/data/tinyshakespeare/input.txt\n",
        "with open('input.txt', 'r', encoding='utf-8') as f:\n",
        "   text = f.read()"
      ],
      "metadata": {
        "colab": {
          "base_uri": "https://localhost:8080/"
        },
        "id": "HwOB2WFR4pSw",
        "outputId": "6a37b4c6-667e-4cf1-c20b-65cd8a2ffec4"
      },
      "execution_count": null,
      "outputs": [
        {
          "output_type": "stream",
          "name": "stdout",
          "text": [
            "--2023-09-07 09:39:27--  https://raw.githubusercontent.com/karpathy/char-rnn/master/data/tinyshakespeare/input.txt\n",
            "Resolving raw.githubusercontent.com (raw.githubusercontent.com)... 185.199.111.133, 185.199.109.133, 185.199.108.133, ...\n",
            "Connecting to raw.githubusercontent.com (raw.githubusercontent.com)|185.199.111.133|:443... connected.\n",
            "HTTP request sent, awaiting response... 200 OK\n",
            "Length: 1115394 (1.1M) [text/plain]\n",
            "Saving to: ‘input.txt.1’\n",
            "\n",
            "\rinput.txt.1           0%[                    ]       0  --.-KB/s               \rinput.txt.1         100%[===================>]   1.06M  --.-KB/s    in 0.02s   \n",
            "\n",
            "2023-09-07 09:39:27 (54.2 MB/s) - ‘input.txt.1’ saved [1115394/1115394]\n",
            "\n"
          ]
        }
      ]
    },
    {
      "cell_type": "code",
      "source": [
        "chars = sorted(list(set(text)))\n",
        "vocab_size = len(chars)"
      ],
      "metadata": {
        "id": "G6SMFkVZ52nQ"
      },
      "execution_count": null,
      "outputs": []
    },
    {
      "cell_type": "code",
      "source": [
        "#create a mapping from characters to integers\n",
        "stoi = { ch:i for i,ch in enumerate(chars) }\n",
        "itos = { i:ch for i,ch in enumerate(chars) }\n",
        "encode = lambda s: [stoi[c] for c in s] # encoder: take a string, output a list of integers\n",
        "decode = lambda l: ''.join([itos[i] for i in l]) # decoder: take a list of integers, output a string\n",
        "\n",
        "print(encode(\"hii there\"))\n",
        "print(decode(encode(\"hii there\")))"
      ],
      "metadata": {
        "colab": {
          "base_uri": "https://localhost:8080/"
        },
        "id": "M_ZrWZkQ65I4",
        "outputId": "a1132e91-2eab-420c-fb26-7026abe8330b"
      },
      "execution_count": null,
      "outputs": [
        {
          "output_type": "stream",
          "name": "stdout",
          "text": [
            "[46, 47, 47, 1, 58, 46, 43, 56, 43]\n",
            "hii there\n"
          ]
        }
      ]
    },
    {
      "cell_type": "code",
      "source": [
        "#let's now encode the entire text dataset and store it into a torch.Tensor\n",
        "import torch # we use PyTorch: https://pytorch.org\n",
        "data = torch.tensor(encode(text), dtype=torch.long)\n",
        "print(data.shape, data.dtype)\n",
        "print(data[:1000]) # the 1000 characters we looked at earier will to the GPT look like this"
      ],
      "metadata": {
        "colab": {
          "base_uri": "https://localhost:8080/"
        },
        "id": "395_XAVV7DKn",
        "outputId": "7d68a5da-15c2-4aa4-dc75-f34c97d87b33"
      },
      "execution_count": null,
      "outputs": [
        {
          "output_type": "stream",
          "name": "stdout",
          "text": [
            "torch.Size([1115394]) torch.int64\n",
            "tensor([18, 47, 56, 57, 58,  1, 15, 47, 58, 47, 64, 43, 52, 10,  0, 14, 43, 44,\n",
            "        53, 56, 43,  1, 61, 43,  1, 54, 56, 53, 41, 43, 43, 42,  1, 39, 52, 63,\n",
            "         1, 44, 59, 56, 58, 46, 43, 56,  6,  1, 46, 43, 39, 56,  1, 51, 43,  1,\n",
            "        57, 54, 43, 39, 49,  8,  0,  0, 13, 50, 50, 10,  0, 31, 54, 43, 39, 49,\n",
            "         6,  1, 57, 54, 43, 39, 49,  8,  0,  0, 18, 47, 56, 57, 58,  1, 15, 47,\n",
            "        58, 47, 64, 43, 52, 10,  0, 37, 53, 59,  1, 39, 56, 43,  1, 39, 50, 50,\n",
            "         1, 56, 43, 57, 53, 50, 60, 43, 42,  1, 56, 39, 58, 46, 43, 56,  1, 58,\n",
            "        53,  1, 42, 47, 43,  1, 58, 46, 39, 52,  1, 58, 53,  1, 44, 39, 51, 47,\n",
            "        57, 46, 12,  0,  0, 13, 50, 50, 10,  0, 30, 43, 57, 53, 50, 60, 43, 42,\n",
            "         8,  1, 56, 43, 57, 53, 50, 60, 43, 42,  8,  0,  0, 18, 47, 56, 57, 58,\n",
            "         1, 15, 47, 58, 47, 64, 43, 52, 10,  0, 18, 47, 56, 57, 58,  6,  1, 63,\n",
            "        53, 59,  1, 49, 52, 53, 61,  1, 15, 39, 47, 59, 57,  1, 25, 39, 56, 41,\n",
            "        47, 59, 57,  1, 47, 57,  1, 41, 46, 47, 43, 44,  1, 43, 52, 43, 51, 63,\n",
            "         1, 58, 53,  1, 58, 46, 43,  1, 54, 43, 53, 54, 50, 43,  8,  0,  0, 13,\n",
            "        50, 50, 10,  0, 35, 43,  1, 49, 52, 53, 61,  5, 58,  6,  1, 61, 43,  1,\n",
            "        49, 52, 53, 61,  5, 58,  8,  0,  0, 18, 47, 56, 57, 58,  1, 15, 47, 58,\n",
            "        47, 64, 43, 52, 10,  0, 24, 43, 58,  1, 59, 57,  1, 49, 47, 50, 50,  1,\n",
            "        46, 47, 51,  6,  1, 39, 52, 42,  1, 61, 43,  5, 50, 50,  1, 46, 39, 60,\n",
            "        43,  1, 41, 53, 56, 52,  1, 39, 58,  1, 53, 59, 56,  1, 53, 61, 52,  1,\n",
            "        54, 56, 47, 41, 43,  8,  0, 21, 57,  5, 58,  1, 39,  1, 60, 43, 56, 42,\n",
            "        47, 41, 58, 12,  0,  0, 13, 50, 50, 10,  0, 26, 53,  1, 51, 53, 56, 43,\n",
            "         1, 58, 39, 50, 49, 47, 52, 45,  1, 53, 52,  5, 58, 11,  1, 50, 43, 58,\n",
            "         1, 47, 58,  1, 40, 43,  1, 42, 53, 52, 43, 10,  1, 39, 61, 39, 63,  6,\n",
            "         1, 39, 61, 39, 63,  2,  0,  0, 31, 43, 41, 53, 52, 42,  1, 15, 47, 58,\n",
            "        47, 64, 43, 52, 10,  0, 27, 52, 43,  1, 61, 53, 56, 42,  6,  1, 45, 53,\n",
            "        53, 42,  1, 41, 47, 58, 47, 64, 43, 52, 57,  8,  0,  0, 18, 47, 56, 57,\n",
            "        58,  1, 15, 47, 58, 47, 64, 43, 52, 10,  0, 35, 43,  1, 39, 56, 43,  1,\n",
            "        39, 41, 41, 53, 59, 52, 58, 43, 42,  1, 54, 53, 53, 56,  1, 41, 47, 58,\n",
            "        47, 64, 43, 52, 57,  6,  1, 58, 46, 43,  1, 54, 39, 58, 56, 47, 41, 47,\n",
            "        39, 52, 57,  1, 45, 53, 53, 42,  8,  0, 35, 46, 39, 58,  1, 39, 59, 58,\n",
            "        46, 53, 56, 47, 58, 63,  1, 57, 59, 56, 44, 43, 47, 58, 57,  1, 53, 52,\n",
            "         1, 61, 53, 59, 50, 42,  1, 56, 43, 50, 47, 43, 60, 43,  1, 59, 57, 10,\n",
            "         1, 47, 44,  1, 58, 46, 43, 63,  0, 61, 53, 59, 50, 42,  1, 63, 47, 43,\n",
            "        50, 42,  1, 59, 57,  1, 40, 59, 58,  1, 58, 46, 43,  1, 57, 59, 54, 43,\n",
            "        56, 44, 50, 59, 47, 58, 63,  6,  1, 61, 46, 47, 50, 43,  1, 47, 58,  1,\n",
            "        61, 43, 56, 43,  0, 61, 46, 53, 50, 43, 57, 53, 51, 43,  6,  1, 61, 43,\n",
            "         1, 51, 47, 45, 46, 58,  1, 45, 59, 43, 57, 57,  1, 58, 46, 43, 63,  1,\n",
            "        56, 43, 50, 47, 43, 60, 43, 42,  1, 59, 57,  1, 46, 59, 51, 39, 52, 43,\n",
            "        50, 63, 11,  0, 40, 59, 58,  1, 58, 46, 43, 63,  1, 58, 46, 47, 52, 49,\n",
            "         1, 61, 43,  1, 39, 56, 43,  1, 58, 53, 53,  1, 42, 43, 39, 56, 10,  1,\n",
            "        58, 46, 43,  1, 50, 43, 39, 52, 52, 43, 57, 57,  1, 58, 46, 39, 58,  0,\n",
            "        39, 44, 44, 50, 47, 41, 58, 57,  1, 59, 57,  6,  1, 58, 46, 43,  1, 53,\n",
            "        40, 48, 43, 41, 58,  1, 53, 44,  1, 53, 59, 56,  1, 51, 47, 57, 43, 56,\n",
            "        63,  6,  1, 47, 57,  1, 39, 57,  1, 39, 52,  0, 47, 52, 60, 43, 52, 58,\n",
            "        53, 56, 63,  1, 58, 53,  1, 54, 39, 56, 58, 47, 41, 59, 50, 39, 56, 47,\n",
            "        57, 43,  1, 58, 46, 43, 47, 56,  1, 39, 40, 59, 52, 42, 39, 52, 41, 43,\n",
            "        11,  1, 53, 59, 56,  0, 57, 59, 44, 44, 43, 56, 39, 52, 41, 43,  1, 47,\n",
            "        57,  1, 39,  1, 45, 39, 47, 52,  1, 58, 53,  1, 58, 46, 43, 51,  1, 24,\n",
            "        43, 58,  1, 59, 57,  1, 56, 43, 60, 43, 52, 45, 43,  1, 58, 46, 47, 57,\n",
            "         1, 61, 47, 58, 46,  0, 53, 59, 56,  1, 54, 47, 49, 43, 57,  6,  1, 43,\n",
            "        56, 43,  1, 61, 43,  1, 40, 43, 41, 53, 51, 43,  1, 56, 39, 49, 43, 57,\n",
            "        10,  1, 44, 53, 56,  1, 58, 46, 43,  1, 45, 53, 42, 57,  1, 49, 52, 53,\n",
            "        61,  1, 21,  0, 57, 54, 43, 39, 49,  1, 58, 46, 47, 57,  1, 47, 52,  1,\n",
            "        46, 59, 52, 45, 43, 56,  1, 44, 53, 56,  1, 40, 56, 43, 39, 42,  6,  1,\n",
            "        52, 53, 58,  1, 47, 52,  1, 58, 46, 47, 56, 57, 58,  1, 44, 53, 56,  1,\n",
            "        56, 43, 60, 43, 52, 45, 43,  8,  0,  0])\n"
          ]
        }
      ]
    },
    {
      "cell_type": "code",
      "source": [
        "# Let's now split up the data into train and validation sets\n",
        "n = int(0.9*len(data)) # first 90% will be train, rest val\n",
        "train_data = data[:n]\n",
        "val_data = data[n:]\n",
        "block_size = 8\n",
        "train_data[:block_size+1]\n",
        "x = train_data[:block_size]\n",
        "y = train_data[1:block_size+1]\n",
        "for t in range(block_size):\n",
        "  context = x[:t+1]\n",
        "  target = y[t]\n",
        "  print(f\"when input is {context} the target: {target}\")"
      ],
      "metadata": {
        "colab": {
          "base_uri": "https://localhost:8080/"
        },
        "id": "V3f2lpVn7f6O",
        "outputId": "c81baffc-e670-48ae-c583-34327fc1798f"
      },
      "execution_count": null,
      "outputs": [
        {
          "output_type": "stream",
          "name": "stdout",
          "text": [
            "when input is tensor([18]) the target: 47\n",
            "when input is tensor([18, 47]) the target: 56\n",
            "when input is tensor([18, 47, 56]) the target: 57\n",
            "when input is tensor([18, 47, 56, 57]) the target: 58\n",
            "when input is tensor([18, 47, 56, 57, 58]) the target: 1\n",
            "when input is tensor([18, 47, 56, 57, 58,  1]) the target: 15\n",
            "when input is tensor([18, 47, 56, 57, 58,  1, 15]) the target: 47\n",
            "when input is tensor([18, 47, 56, 57, 58,  1, 15, 47]) the target: 58\n"
          ]
        }
      ]
    },
    {
      "cell_type": "code",
      "source": [
        "torch.manual_seed(1337)\n",
        "batch_size = 4 # how many independent sequences will we process in parallel?\n",
        "block_size = 8 # what is the maximum context length for predictions?\n",
        "\n",
        "def get_batch(split):\n",
        "   # generate a small batch of data of inputs x and targets y\n",
        "   data = train_data if split == 'train' else val_data\n",
        "   ix = torch.randint(len(data) - block_size, (batch_size,))\n",
        "   x = torch.stack([data[i:i+block_size] for i in ix])\n",
        "   y = torch.stack([data[i+1:i+block_size+1] for i in ix])\n",
        "   return x, y\n",
        "\n",
        "   xb, yb = get_batch('train')\n",
        "   print('inputs:')\n",
        "   print(xb.shape)\n",
        "   print(xb)\n",
        "   print('targets:')\n",
        "   print(yb.shape)\n",
        "   print(yb)\n",
        "\n",
        "   print('----')\n",
        "\n",
        "   for b in range(batch_size): # batch dimension\n",
        "     for t in range(block_size): # time dimension\n",
        "       context = xb[b, :t+1]\n",
        "       target = yb[b,t]\n",
        "       print(f\"when input is {context.tolist()} the target: {target}\")"
      ],
      "metadata": {
        "id": "yTuneLLG8DNH"
      },
      "execution_count": null,
      "outputs": []
    },
    {
      "cell_type": "code",
      "source": [
        "@torch.no_grad()\n",
        "def estimate_loss():\n",
        "  out = {}\n",
        "  model.eval()\n",
        "  for split in ['train', 'val']:\n",
        "     losses = torch.zeros(eval_iters)\n",
        "     for k in range(eval_iters):\n",
        "       X, Y = get_batch(split)\n",
        "       logits, loss = model(X, Y)\n",
        "       losses[k] = loss.item()\n",
        "       out[split] = losses.mean()\n",
        "       model.train()\n",
        "  return out"
      ],
      "metadata": {
        "id": "GHr71svG86mx"
      },
      "execution_count": 79,
      "outputs": []
    },
    {
      "cell_type": "code",
      "source": [
        "class Head(nn.Module):\n",
        "   def __init__(self, head_size):\n",
        "      super().__init__()\n",
        "      self.key = nn.Linear(n_embd, head_size, bias=False)\n",
        "      self.query = nn.Linear(n_embd, head_size, bias=False)\n",
        "      self.value = nn.Linear(n_embd, head_size, bias=False)\n",
        "      self.register_buffer('tril', torch.tril(torch.ones(block_size, block_size)))\n",
        "\n",
        "      self.dropout = nn.Dropout(dropout)\n",
        "\n",
        "   def forward(self, x):\n",
        "       B,T,C = x.shape\n",
        "       k = self.key(x) # (B,T,C)\n",
        "       q = self.query(x) # (B,T,C)\n",
        "      # compute attention scores (\"affinities\")\n",
        "       wei = q @ k.transpose(-2,-1) * C**-0.5 # (B, T, C) @ (B, C, T) -> (B, T, T)\n",
        "       wei = wei.masked_fill(self.tril[:T, :T] == 0, float('-inf')) # (B, T, T)\n",
        "       wei = F.softmax(wei, dim=-1) # (B, T, T)\n",
        "       wei = self.dropout(wei)\n",
        "       # perform the weighted aggregation of the values\n",
        "       v = self.value(x) # (B,T,C)\n",
        "       out = wei @ v # (B, T, T) @ (B, T, C) -> (B, T, C)\n",
        "       return out"
      ],
      "metadata": {
        "id": "kecZGSEY_Xlk"
      },
      "execution_count": 74,
      "outputs": []
    },
    {
      "cell_type": "code",
      "source": [
        "class MultiHeadAttention(nn.Module):\n",
        "  \"\"\" multiple heads of self-attention in parallel \"\"\"\n",
        "\n",
        "  def __init__(self, num_heads, head_size):\n",
        "    super().__init__()\n",
        "    self.heads = nn.ModuleList([Head(head_size) for _ in range(num_heads)])\n",
        "    self.proj = nn.Linear(n_embd, n_embd)\n",
        "    self.dropout = nn.Dropout(dropout)\n",
        "\n",
        "  def forward(self, x):\n",
        "    out = torch.cat([h(x) for h in self.heads], dim=-1)\n",
        "    out = self.dropout(self.proj(out))\n",
        "    return out"
      ],
      "metadata": {
        "id": "6UE3F3AABY8a"
      },
      "execution_count": null,
      "outputs": []
    },
    {
      "cell_type": "code",
      "source": [
        "class FeedFoward(nn.Module):\n",
        "  \"\"\" a simple linear layer followed by a non-linearity \"\"\"\n",
        "\n",
        "  def __init__(self, n_embd):\n",
        "     super().__init__()\n",
        "     self.net = nn.Sequential(\n",
        "     nn.Linear(n_embd, 4 * n_embd),\n",
        "     nn.ReLU(),\n",
        "     nn.Linear(4 * n_embd, n_embd),\n",
        "     nn.Dropout(dropout),\n",
        "  )\n",
        "\n",
        "  def forward(self, x):\n",
        "    return self.net(x)\n",
        "\n",
        "class Block(nn.Module):\n",
        "     \"\"\" Transformer block: communication followed by computation \"\"\"\n",
        "\n",
        "     def __init__(self, n_embd, n_head):\n",
        "        # n_embd: embedding dimension, n_head: the number of heads we'd like\n",
        "         super().__init__()\n",
        "         head_size = n_embd // n_head\n",
        "         self.sa = MultiHeadAttention(n_head, head_size)\n",
        "         self.ffwd = FeedFoward(n_embd)\n",
        "         self.ln1 = nn.LayerNorm(n_embd)\n",
        "         self.ln2 = nn.LayerNorm(n_embd)\n",
        "\n",
        "\n",
        "     def forward(self, x):\n",
        "         x = x + self.sa(self.ln1(x))\n",
        "         x = x + self.ffwd(self.ln2(x))\n",
        "         return x"
      ],
      "metadata": {
        "id": "x7v_PGP6BydF"
      },
      "execution_count": 68,
      "outputs": []
    },
    {
      "cell_type": "code",
      "source": [
        "class BigramLanguageModel(nn.Module):\n",
        "\n",
        "  def __init__(self):\n",
        "    super().__init__()\n",
        "     # each token directly reads off the logits for the next token from a lookup table\n",
        "    self.token_embedding_table = nn.Embedding(vocab_size, n_embd)\n",
        "    self.position_embedding_table = nn.Embedding(block_size, n_embd)\n",
        "    self.blocks = nn.Sequential(*[Block(n_embd, n_head=n_head) for _ in range(n_layer)])\n",
        "    self.ln_f = nn.LayerNorm(n_embd) # final layer norm\n",
        "    self.lm_head = nn.Linear(n_embd, vocab_size)\n",
        "\n",
        "  def forward(self, idx, targets=None):\n",
        "    B, T = idx.shape\n",
        "\n",
        "  # idx and targets are both (B,T) tensor of integers\n",
        "    tok_emb = self.token_embedding_table(idx) # (B,T,C)\n",
        "    pos_emb = self.position_embedding_table(torch.arange(T, device=device)) # (T,C)\n",
        "    x = tok_emb + pos_emb # (B,T,C)\n",
        "    x = self.blocks(x) # (B,T,C)\n",
        "    x = self.ln_f(x) # (B,T,C)\n",
        "    logits = self.lm_head(x) # (B,T,vocab_size)\n",
        "\n",
        "    if targets is None:\n",
        "     loss = None\n",
        "    else:\n",
        "     B, T, C = logits.shape\n",
        "     logits = logits.view(B*T, C)\n",
        "     targets = targets.view(B*T)\n",
        "     loss = F.cross_entropy(logits, targets)\n",
        "\n",
        "    return logits, loss\n",
        "\n",
        "  def generate(self, idx, max_new_tokens):\n",
        "  # idx is (B, T) array of indices in the current context\n",
        "    for _ in range(max_new_tokens):\n",
        "  # crop idx to the last block_size tokens\n",
        "      idx_cond = idx[:, -block_size:]\n",
        "  # get the predictions\n",
        "      logits, loss = self(idx_cond)\n",
        "  # focus only on the last time step\n",
        "      logits = logits[:, -1, :] # becomes (B, C)\n",
        "  # apply softmax to get probabilities\n",
        "      probs = F.softmax(logits, dim=-1) # (B, C)\n",
        "  # sample from the distribution\n",
        "      idx_next = torch.multinomial(probs, num_samples=1) # (B, 1)\n",
        "  # append sampled index to the running sequence\n",
        "      idx = torch.cat((idx, idx_next), dim=1) # (B, T+1)\n",
        "    return idx\n",
        "\n",
        "model = BigramLanguageModel()\n",
        "m = model.to(device)\n",
        "# print the number of parameters in the model\n",
        "print(sum(p.numel() for p in m.parameters())/1e6, 'M parameters')\n",
        "\n",
        "# create a PyTorch optimizer\n",
        "optimizer = torch.optim.AdamW(model.parameters(), lr=learning_rate)\n",
        "\n",
        "for iter in range(max_iters):\n",
        "\n",
        "  # every once in a while evaluate the loss on train and val sets\n",
        "    if iter % eval_interval == 0 or iter == max_iters - 1:\n",
        "      losses = estimate_loss()\n",
        "      print(f\"step {iter}: train loss {losses['train']:.4f}, val loss {losses['val']:.4f}\")\n",
        "\n",
        "  # sample a batch of data\n",
        "    xb, yb = get_batch('train')\n",
        "\n",
        "  # evaluate the loss\n",
        "    logits, loss = model(xb, yb)\n",
        "    optimizer.zero_grad(set_to_none=True)\n",
        "    loss.backward()\n",
        "    optimizer.step()\n",
        "\n",
        "  # generate from the model\n",
        "context = torch.zeros((1, 1), dtype=torch.long, device=device)\n",
        "print(decode(m.generate(context, max_new_tokens=2000)[0].tolist()))"
      ],
      "metadata": {
        "colab": {
          "base_uri": "https://localhost:8080/"
        },
        "id": "GzPv_jOyCtC3",
        "outputId": "41b4605a-1474-4d6f-d13b-80c77772836e"
      },
      "execution_count": 80,
      "outputs": [
        {
          "output_type": "stream",
          "name": "stdout",
          "text": [
            "0.208193 M parameters\n",
            "step 0: train loss 4.3589, val loss 4.3527\n",
            "step 100: train loss 3.0033, val loss 3.0122\n",
            "step 200: train loss 2.7462, val loss 2.7677\n",
            "step 300: train loss 2.6133, val loss 2.6360\n",
            "step 400: train loss 2.5592, val loss 2.5665\n",
            "step 500: train loss 2.5258, val loss 2.5801\n",
            "step 600: train loss 2.5249, val loss 2.5572\n",
            "step 700: train loss 2.4743, val loss 2.5026\n",
            "step 800: train loss 2.4792, val loss 2.4412\n",
            "step 900: train loss 2.4342, val loss 2.4219\n",
            "step 1000: train loss 2.3857, val loss 2.4114\n",
            "step 1100: train loss 2.4187, val loss 2.4027\n",
            "step 1200: train loss 2.3830, val loss 2.3609\n",
            "step 1300: train loss 2.3381, val loss 2.3456\n",
            "step 1400: train loss 2.3175, val loss 2.3452\n",
            "step 1500: train loss 2.3143, val loss 2.3290\n",
            "step 1600: train loss 2.3096, val loss 2.3066\n",
            "step 1700: train loss 2.3133, val loss 2.3041\n",
            "step 1800: train loss 2.3206, val loss 2.3078\n",
            "step 1900: train loss 2.3228, val loss 2.3287\n",
            "step 2000: train loss 2.3093, val loss 2.2882\n",
            "step 2100: train loss 2.2887, val loss 2.2739\n",
            "step 2200: train loss 2.2221, val loss 2.2651\n",
            "step 2300: train loss 2.2624, val loss 2.2841\n",
            "step 2400: train loss 2.2334, val loss 2.2694\n",
            "step 2500: train loss 2.2412, val loss 2.2520\n",
            "step 2600: train loss 2.2376, val loss 2.2321\n",
            "step 2700: train loss 2.2397, val loss 2.2773\n",
            "step 2800: train loss 2.1949, val loss 2.2183\n",
            "step 2900: train loss 2.2023, val loss 2.2134\n",
            "step 3000: train loss 2.1954, val loss 2.1920\n",
            "step 3100: train loss 2.2213, val loss 2.2406\n",
            "step 3200: train loss 2.2392, val loss 2.2234\n",
            "step 3300: train loss 2.1575, val loss 2.1998\n",
            "step 3400: train loss 2.2045, val loss 2.2072\n",
            "step 3500: train loss 2.1586, val loss 2.2107\n",
            "step 3600: train loss 2.1857, val loss 2.2086\n",
            "step 3700: train loss 2.1701, val loss 2.2087\n",
            "step 3800: train loss 2.1354, val loss 2.1796\n",
            "step 3900: train loss 2.1759, val loss 2.1858\n",
            "step 4000: train loss 2.1734, val loss 2.1845\n",
            "step 4100: train loss 2.1278, val loss 2.2114\n",
            "step 4200: train loss 2.1598, val loss 2.2136\n",
            "step 4300: train loss 2.1288, val loss 2.2104\n",
            "step 4400: train loss 2.1279, val loss 2.1634\n",
            "step 4500: train loss 2.1424, val loss 2.1845\n",
            "step 4600: train loss 2.1298, val loss 2.1960\n",
            "step 4700: train loss 2.1014, val loss 2.1847\n",
            "step 4800: train loss 2.1378, val loss 2.1709\n",
            "step 4900: train loss 2.1470, val loss 2.1640\n",
            "step 4999: train loss 2.1562, val loss 2.1886\n",
            "\n",
            "BUT:\n",
            "And'deily,,\n",
            "But acable atherle, evarusth, of the noad so thee, kne couneset\n",
            "Lee,\n",
            "I with gurt:\n",
            "Ibforre seespenvek.\n",
            "\n",
            "Firinge unstrelf to ke'e on his dear?\n",
            "\n",
            "This\n",
            "Why, sid, I brack thith\n",
            "mase why,\n",
            "Ior ve, be Gid on,\n",
            "O but, ingedy.\n",
            "\n",
            "JOPparce thervouls un.\n",
            "The lajuvess, havnds to--sy, whith.\n",
            "Fold,\n",
            "Of, remanign:\n",
            "Weed, deoms lied,\n",
            "Where levead;\n",
            "I thoun serte ryas:\n",
            "Itle and in thee nown?\n",
            "\n",
            "Con and mike teel hobly that shere me or oe to th efbe suegere\n",
            "And,\n",
            "Whall dosie I;\n",
            "My sucheld I con and:\n",
            "Theee youe thoud bowt hear ume,\n",
            "Wett kcrues'ese,\n",
            "Forge\n",
            "Ap ohe his thourst,!\n",
            "\n",
            "As mere!\n",
            "ke nims;\n",
            "Andssboutied, ho'ltly,\n",
            "he Is stioed,\n",
            "hus beneicule he quegentpeecters soree to mou'staly in whath derble secron.\n",
            "\n",
            "Marksterny,\n",
            "On youretergise wer ne kind\n",
            "the bk\n",
            "\n",
            "Miast'sere, on int thoucequhts, tookest, hyfiedid,\n",
            "He!\n",
            "\n",
            "Fe of int seard,\n",
            "Butedte,\n",
            "To of'm omper and shold tybest, ve shatileesty;\n",
            "O,\n",
            "Whe pakilciedBe, have med trengelts.\n",
            "\n",
            "Whather wureare, ciestloughtumes.\n",
            "\n",
            "My, ourse,\n",
            "O bewven.\n",
            "\n",
            "Munte, I soukem, in, gervy nocece,\n",
            "Mount be acene,\n",
            "Anow! where hyopp.\n",
            "\n",
            "PYay ane fol heiffas go,\n",
            "Ifelll;\n",
            "If crul evare,\n",
            "Thawn couBe ipers And un hisaht\n",
            "Sithin offrake feres:\n",
            "Anh the pooen, heear, ass\n",
            "Which whimer and you, areal thy\n",
            "O shime, my corchall herest:\n",
            "I thuigge,\n",
            "He thei'l be bout the aldicter, offeyce'slen'slaw'leged,\n",
            "Anight,\n",
            "Who theark,\n",
            "Paster we geaviel do thid! shere, live,\n",
            "To knge?\n",
            "\n",
            "Whe goit,\n",
            "Nut, in love onewall inse\n",
            "vetel efebill herouchoud, ond,\n",
            "Tam'my, brofd,\n",
            "AnoUd, the groucce:\n",
            "At ine, helpe:\n",
            "The gevis, here geuro tan peshiss, aride's for in-'s cher andaio doke.\n",
            "\n",
            "LUCHINGFNA RO:\n",
            "Whats,\n",
            "An thy bou hell faspe.\n",
            "Buch be meressieds noule neate, and, these ber-yeesecfight wo'so him roughviagbunoursere.\n",
            "\n",
            "BROnd Buith:\n",
            "Whate, reched king themathy?\n",
            "What Eang sicn'tlet,\n",
            "Pout hath ne offlare yath, I hanse see carsto Eingpolenchere\n",
            "Thy helcearments. Tedeed,\n",
            "Go? Sriegaknd, heram, goriife of thought entlacend halt,\n",
            "Whath the tearne tou math,\n",
            "UneroulW:\n",
            "Whe mime con.\n",
            "\n",
            "Mare conme? made.\n",
            "\n",
            "KING LHANA:\n",
            "Thournce,\n"
          ]
        }
      ]
    },
    {
      "cell_type": "code",
      "source": [],
      "metadata": {
        "id": "avHIqDuZCsNl"
      },
      "execution_count": null,
      "outputs": []
    }
  ]
}